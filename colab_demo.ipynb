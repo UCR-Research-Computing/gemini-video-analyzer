{
 "cells": [
  {
   "cell_type": "markdown",
   "id": "0f90c63f",
   "metadata": {},
   "source": [
    "# Gemini Video Analyzer - Google Colab Demo"
   ]
  },
  {
   "cell_type": "markdown",
   "id": "2b916030",
   "metadata": {},
   "source": [
    "This notebook demonstrates how to run the Gemini Video Analyzer in a Google Colab environment. It will guide you through the setup, configuration, and execution process."
   ]
  },
  {
   "cell_type": "markdown",
   "id": "492e7b9a",
   "metadata": {},
   "source": [
    "## 1. Setup"
   ]
  },
  {
   "cell_type": "markdown",
   "id": "df8b3179",
   "metadata": {},
   "source": [
    "First, we need to clone the repository and install the necessary dependencies. This includes `ffmpeg` for video processing and the Python packages (including `yt-dlp`) listed in `requirements.txt`."
   ]
  },
  {
   "cell_type": "code",
   "execution_count": null,
   "id": "7589c0b0",
   "metadata": {},
   "outputs": [],
   "source": [
    "!git clone https://github.com/UCR-Research-Computing/gemini-video-analyzer.git\n",
    "%cd gemini-video-analyzer\n",
    "!pip install -r requirements.txt\n",
    "!sudo apt-get update && sudo apt-get install -y ffmpeg"
   ]
  },
  {
   "cell_type": "markdown",
   "id": "e977999d",
   "metadata": {},
   "source": [
    "## 2. Configuration"
   ]
  },
  {
   "cell_type": "markdown",
   "id": "1f022ced",
   "metadata": {},
   "source": [
    "Next, you need to provide your Google Gemini API key. The cell below will prompt you to enter your key, which will be stored securely as an environment variable."
   ]
  },
  {
   "cell_type": "code",
   "execution_count": null,
   "id": "abb8136e",
   "metadata": {},
   "outputs": [],
   "source": [
    "import os\n",
    "from getpass import getpass\n",
    "\n",
    "gemini_api_key = getpass('Enter your Gemini API key: ')\n",
    "os.environ['GEMINI_API_KEY'] = gemini_api_key"
   ]
  },
  {
   "cell_type": "markdown",
   "id": "12db3dfe",
   "metadata": {},
   "source": [
    "## 3. Execution"
   ]
  },
  {
   "cell_type": "markdown",
   "id": "f1fdfb29",
   "metadata": {},
   "source": [
    "Now we are ready to run the analyzer. We will use a sample YouTube video for this demonstration. You can change the URL to any video you want to analyze."
   ]
  },
  {
   "cell_type": "code",
   "execution_count": null,
   "id": "6711e92e",
   "metadata": {},
   "outputs": [],
   "source": [
    "!python3 analyzer.py \"https://youtube.com/clip/UgkxaPjipxal9El9HR9nkEhPnAtCXYK6ZcE3?si=6zgynxIAjhy0qs0Q\" --model gemini-2.5-pro"
   ]
  },
  {
   "cell_type": "markdown",
   "id": "f90373d9",
   "metadata": {},
   "source": [
    "## 4. Results"
   ]
  },
  {
   "cell_type": "markdown",
   "id": "022c8981",
   "metadata": {},
   "source": [
    "The analysis is complete. The generated report is saved in the `reports` directory. The cell below will find the latest report and display its content."
   ]
  },
  {
   "cell_type": "code",
   "execution_count": null,
   "id": "faa7e5b6",
   "metadata": {},
   "outputs": [],
   "source": [
    "import os\n",
    "from IPython.display import display, Markdown\n",
    "\n",
    "reports_dir = 'reports'\n",
    "# Find the most recently modified subdirectory in the reports directory\n",
    "latest_run_dir = max(\n",
    "    [os.path.join(root, d) for root, dirs, _ in os.walk(reports_dir) if dirs],\n",
    "    key=os.path.getmtime\n",
    ")\n",
    "report_path = os.path.join(latest_run_dir, 'analysis.md')\n",
    "\n",
    "with open(report_path, 'r') as f:\n",
    "    report_content = f.read()\n",
    "\n",
    "display(Markdown(report_content))"
   ]
  }
 ],
 "metadata": {},
 "nbformat": 4,
 "nbformat_minor": 5
}
