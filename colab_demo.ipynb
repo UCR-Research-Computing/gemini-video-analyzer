{
 "cells": [
  {
   "cell_type": "markdown",
   "id": "f6a8a330",
   "metadata": {},
   "source": [
    "# Gemini Video Analyzer - Google Colab Demo"
   ]
  },
  {
   "cell_type": "markdown",
   "id": "8f6c368e",
   "metadata": {},
   "source": [
    "This notebook demonstrates how to run the Gemini Video Analyzer in a Google Colab environment. It will guide you through the setup, configuration, and execution process."
   ]
  },
  {
   "cell_type": "markdown",
   "id": "febb8007",
   "metadata": {},
   "source": [
    "## 1. Setup"
   ]
  },
  {
   "cell_type": "markdown",
   "id": "a1f37e64",
   "metadata": {},
   "source": [
    "First, we need to clone the repository and install the necessary dependencies. This includes `ffmpeg` for video processing and the Python packages (including `yt-dlp`) listed in `requirements.txt`."
   ]
  },
  {
   "cell_type": "code",
   "execution_count": null,
   "id": "eb1ba165",
   "metadata": {},
   "outputs": [],
   "source": [
    "!git clone https://github.com/UCR-Research-Computing/gemini-video-analyzer.git\n",
    "%cd gemini-video-analyzer\n",
    "!pip install -r requirements.txt\n",
    "!sudo apt-get update && sudo apt-get install -y ffmpeg"
   ]
  },
  {
   "cell_type": "markdown",
   "id": "39939db6",
   "metadata": {},
   "source": [
    "## 2. Configuration"
   ]
  },
  {
   "cell_type": "markdown",
   "id": "f4384e9e",
   "metadata": {},
   "source": [
    "Next, you need to provide your Google Gemini API key. The cell below will prompt you to enter your key, which will be stored securely as an environment variable."
   ]
  },
  {
   "cell_type": "code",
   "execution_count": null,
   "id": "b77894c4",
   "metadata": {},
   "outputs": [],
   "source": [
    "import os\n",
    "from getpass import getpass\n",
    "\n",
    "gemini_api_key = getpass('Enter your Gemini API key: ')\n",
    "os.environ['GEMINI_API_KEY'] = gemini_api_key"
   ]
  },
  {
   "cell_type": "markdown",
   "id": "0fcf8644",
   "metadata": {},
   "source": [
    "## 3. Execution"
   ]
  },
  {
   "cell_type": "markdown",
   "id": "4bc5347d",
   "metadata": {},
   "source": [
    "Now we are ready to run the analyzer. We will use a sample YouTube video for this demonstration. You can change the URL to any video you want to analyze."
   ]
  },
  {
   "cell_type": "code",
   "execution_count": null,
   "id": "a3c70379",
   "metadata": {},
   "outputs": [],
   "source": [
    "!python3 analyzer.py \"https://youtube.com/clip/UgkxaPjipxal9El9HR9nkEhPnAtCXYK6ZcE3?si=6zgynxIAjhy0qs0Q\" --model gemini-2.5-pro"
   ]
  },
  {
   "cell_type": "markdown",
   "id": "c633e522",
   "metadata": {},
   "source": [
    "## 4. Results"
   ]
  },
  {
   "cell_type": "markdown",
   "id": "905e793f",
   "metadata": {},
   "source": [
    "The analysis is complete. The generated report is saved in the `reports` directory. The cell below will find the latest report and display its content."
   ]
  },
  {
   "cell_type": "code",
   "execution_count": null,
   "id": "abe2cbd0",
   "metadata": {},
   "outputs": [],
   "source": [
    "import os\n",
    "from IPython.display import display, Markdown\n",
    "\n",
    "reports_dir = 'reports'\n",
    "# Get a list of all the analysis directories\n",
    "all_analysis_dirs = [\n",
    "    os.path.join(root, d)\n",
    "    for root, dirs, _ in os.walk(reports_dir)\n",
    "    for d in dirs\n",
    "]\n",
    "\n",
    "# Find the most recently modified directory\n",
    "latest_run_dir = max(all_analysis_dirs, key=os.path.getmtime)\n",
    "report_path = os.path.join(latest_run_dir, 'analysis.md')\n",
    "\n",
    "with open(report_path, 'r') as f:\n",
    "    report_content = f.read()\n",
    "\n",
    "display(Markdown(report_content))"
   ]
  }
 ],
 "metadata": {},
 "nbformat": 4,
 "nbformat_minor": 5
}
