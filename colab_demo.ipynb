{
 "cells": [
  {
   "cell_type": "markdown",
   "id": "2002783f",
   "metadata": {},
   "source": [
    "# Gemini Video Analyzer - Google Colab Demo"
   ]
  },
  {
   "cell_type": "markdown",
   "id": "e72d5f06",
   "metadata": {},
   "source": [
    "This notebook demonstrates how to run the Gemini Video Analyzer in a Google Colab environment. It will guide you through the setup, configuration, and execution process."
   ]
  },
  {
   "cell_type": "markdown",
   "id": "ef2e33b5",
   "metadata": {},
   "source": [
    "## 1. Setup"
   ]
  },
  {
   "cell_type": "markdown",
   "id": "4b2838e3",
   "metadata": {},
   "source": [
    "First, we need to clone the repository and install the necessary dependencies. This includes `ffmpeg` for video processing and the Python packages (including `yt-dlp`) listed in `requirements.txt`."
   ]
  },
  {
   "cell_type": "code",
   "execution_count": null,
   "id": "1e5a963e",
   "metadata": {},
   "outputs": [],
   "source": [
    "!git clone https://github.com/UCR-Research-Computing/gemini-video-analyzer.git\n",
    "%cd gemini-video-analyzer\n",
    "!pip install -r requirements.txt\n",
    "!sudo apt-get update && sudo apt-get install -y ffmpeg"
   ]
  },
  {
   "cell_type": "markdown",
   "id": "6aa873c1",
   "metadata": {},
   "source": [
    "## 2. Configuration"
   ]
  },
  {
   "cell_type": "markdown",
   "id": "65cb6093",
   "metadata": {},
   "source": [
    "Next, you need to provide your Google Gemini API key. The cell below will prompt you to enter your key, which will be stored securely as an environment variable."
   ]
  },
  {
   "cell_type": "code",
   "execution_count": null,
   "id": "c97858b7",
   "metadata": {},
   "outputs": [],
   "source": [
    "import os\n",
    "from getpass import getpass\n",
    "\n",
    "gemini_api_key = getpass('Enter your Gemini API key: ')\n",
    "os.environ['GEMINI_API_KEY'] = gemini_api_key"
   ]
  },
  {
   "cell_type": "markdown",
   "id": "f54d7aae",
   "metadata": {},
   "source": [
    "## 3. Execution"
   ]
  },
  {
   "cell_type": "markdown",
   "id": "8aed8478",
   "metadata": {},
   "source": [
    "Now we are ready to run the analyzer. We will use a sample YouTube video for this demonstration. You can change the URL to any video you want to analyze."
   ]
  },
  {
   "cell_type": "code",
   "execution_count": null,
   "id": "206b88de",
   "metadata": {},
   "outputs": [],
   "source": [
    "!python3 analyzer.py \"https://www.youtube.com/watch?v=dQw4w9WgXcQ\" --model gemini-2.5-pro"
   ]
  },
  {
   "cell_type": "markdown",
   "id": "d0d55097",
   "metadata": {},
   "source": [
    "## 4. Results"
   ]
  },
  {
   "cell_type": "markdown",
   "id": "2590fe77",
   "metadata": {},
   "source": [
    "The analysis is complete. The generated report is saved in the `reports` directory. The cell below will find the latest report and display its content."
   ]
  },
  {
   "cell_type": "code",
   "execution_count": null,
   "id": "a323c2e3",
   "metadata": {},
   "outputs": [],
   "source": [
    "import os\n",
    "from IPython.display import display, Markdown\n",
    "\n",
    "reports_dir = 'reports'\n",
    "# Find the most recently modified subdirectory in the reports directory\n",
    "latest_run_dir = max(\n",
    "    [os.path.join(root, d) for root, dirs, _ in os.walk(reports_dir) if dirs],\n",
    "    key=os.path.getmtime\n",
    ")\n",
    "report_path = os.path.join(latest_run_dir, 'analysis.md')\n",
    "\n",
    "with open(report_path, 'r') as f:\n",
    "    report_content = f.read()\n",
    "\n",
    "display(Markdown(report_content))"
   ]
  }
 ],
 "metadata": {},
 "nbformat": 4,
 "nbformat_minor": 5
}
