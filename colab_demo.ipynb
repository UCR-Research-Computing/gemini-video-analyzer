{
 "cells": [
  {
   "cell_type": "markdown",
   "metadata": {},
   "source": [
    "# Gemini Video Analyzer - Google Colab Demo"
   ]
  },
  {
   "cell_type": "markdown",
   "metadata": {},
   "source": [
    "This notebook demonstrates how to run the Gemini Video Analyzer in a Google Colab environment. It will guide you through the setup, configuration, and execution process."
   ]
  },
  {
   "cell_type": "markdown",
   "metadata": {},
   "source": [
    "## 1. Setup"
   ]
  },
  {
   "cell_type": "markdown",
   "metadata": {},
   "source": [
    "First, we need to clone the repository and install the necessary dependencies. This includes `ffmpeg` for video processing and the Python packages listed in `requirements.txt`."
   ]
  },
  {
   "cell_type": "code",
   "execution_count": null,
   "metadata": {},
   "outputs": [],
   "source": [
    "!git clone https://github.com/UCR-Research-Computing/gemini-video-analyzer.git",
    "%cd gemini-video-analyzer",
    "!pip install -r requirements.txt",
    "!sudo apt-get update && sudo apt-get install -y ffmpeg"
   ]
  },
  {
   "cell_type": "markdown",
   "metadata": {},
   "source": [
    "## 2. Configuration"
   ]
  },
  {
   "cell_type": "markdown",
   "metadata": {},
   "source": [
    "Next, you need to provide your Google Gemini API key. The cell below will prompt you to enter your key, which will be stored securely as an environment variable."
   ]
  },
  {
   "cell_type": "code",
   "execution_count": null,
   "metadata": {},
   "outputs": [],
   "source": [
    "import os",
    "from getpass import getpass",
    "",
    "gemini_api_key = getpass('Enter your Gemini API key: ')",
    "os.environ['GEMINI_API_KEY'] = gemini_api_key"
   ]
  },
  {
   "cell_type": "markdown",
   "metadata": {},
   "source": [
    "## 3. Execution"
   ]
  },
  {
   "cell_type": "markdown",
   "metadata": {},
   "source": [
    "Now we are ready to run the analyzer. We will use a sample YouTube video for this demonstration. You can change the URL to any video you want to analyze."
   ]
  },
  {
   "cell_type": "code",
   "execution_count": null,
   "metadata": {},
   "outputs": [],
   "source": [
    "!python3 analyzer.py \"https://www.youtube.com/watch?v=dQw4w9WgXcQ\" --model gemini-1.5-flash"
   ]
  },
  {
   "cell_type": "markdown",
   "metadata": {},
   "source": [
    "## 4. Results"
   ]
  },
  {
   "cell_type": "markdown",
   "metadata": {},
   "source": [
    "The analysis is complete. The generated report is saved in the `reports` directory. The cell below will find the latest report and display its content."
   ]
  },
  {
   "cell_type": "code",
   "execution_count": null,
   "metadata": {},
   "outputs": [],
   "source": [
    "import os",
    "from IPython.display import display, Markdown",
    "",
    "reports_dir = 'reports'",
    "latest_run_dir = max(",
    "    (",
    "        os.path.join(root, d) ",
    "        for root, dirs, _ in os.walk(reports_dir) ",
    "        for d in dirs",
    "    ),",
    "    key=os.path.getmtime",
    ")",
    "",
    "report_path = os.path.join(latest_run_dir, 'analysis.md')",
    "",
    "with open(report_path, 'r') as f:",
    "    report_content = f.read()",
    "",
    "display(Markdown(report_content))"
   ]
  }
 ],
 "metadata": {
  "kernelspec": {
   "display_name": "Python 3",
   "language": "python",
   "name": "python3"
  },
  "language_info": {
   "codemirror_mode": {
    "name": "ipython",
    "version": 3
   },
   "file_extension": ".py",
   "mimetype": "text/x-python",
   "name": "python",
   "nbconvert_exporter": "python",
   "pygments_lexer": "ipython3",
   "version": "3.10.8"
  }
 },
 "nbformat": 4,
 "nbformat_minor": 4
}